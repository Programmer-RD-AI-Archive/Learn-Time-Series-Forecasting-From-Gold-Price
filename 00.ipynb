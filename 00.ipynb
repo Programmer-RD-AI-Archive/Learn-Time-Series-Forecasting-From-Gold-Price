{
 "cells": [
  {
   "cell_type": "code",
   "execution_count": 1,
   "id": "b6ff3d74-d6d1-405a-92b7-323485eeb4d5",
   "metadata": {},
   "outputs": [
    {
     "data": {
      "text/plain": [
       "<torch._C.Generator at 0x7f59d259d330>"
      ]
     },
     "execution_count": 1,
     "metadata": {},
     "output_type": "execute_result"
    }
   ],
   "source": [
    "import random\n",
    "import seaborn as sns\n",
    "import pandas as pd\n",
    "import numpy as np\n",
    "import matplotlib.pyplot as plt\n",
    "import sklearn\n",
    "import torch,torchvision\n",
    "from torch.nn import *\n",
    "from tqdm import tqdm\n",
    "import cv2\n",
    "from torch.optim import *\n",
    "# Preproccessing\n",
    "from sklearn.preprocessing import (\n",
    "    StandardScaler,\n",
    "    RobustScaler,\n",
    "    MinMaxScaler,\n",
    "    MaxAbsScaler,\n",
    "    OneHotEncoder,\n",
    "    Normalizer,\n",
    "    Binarizer\n",
    ")\n",
    "# Decomposition\n",
    "from sklearn.decomposition import PCA\n",
    "from sklearn.decomposition import KernelPCA\n",
    "# Feature Selection\n",
    "from sklearn.feature_selection import VarianceThreshold\n",
    "from sklearn.feature_selection import SelectKBest\n",
    "from sklearn.feature_selection import RFECV\n",
    "from sklearn.feature_selection import SelectFromModel\n",
    "# Model Eval\n",
    "from sklearn.compose import make_column_transformer\n",
    "from sklearn.model_selection import GridSearchCV\n",
    "from sklearn.model_selection import cross_val_score,train_test_split\n",
    "from sklearn.metrics import mean_absolute_error,mean_squared_error\n",
    "# Other\n",
    "import pickle\n",
    "import wandb\n",
    "\n",
    "PROJECT_NAME = 'Learn-Time-Series-Forecasting-From-Gold-Price'\n",
    "device = 'cuda:0'\n",
    "np.random.seed(21)\n",
    "random.seed(21)\n",
    "torch.manual_seed(21)"
   ]
  },
  {
   "cell_type": "code",
   "execution_count": 4,
   "id": "84f503ce-e1fe-450c-b311-1d38c1d2893b",
   "metadata": {},
   "outputs": [],
   "source": [
    "data = torch.from_numpy(np.array(pd.read_csv('./data.csv')['Value'].tolist())).view(1,-1).to(device).float()"
   ]
  },
  {
   "cell_type": "code",
   "execution_count": 7,
   "id": "d56e8bc8-a723-41d0-9acc-0f5f87369e2a",
   "metadata": {},
   "outputs": [
    {
     "data": {
      "text/plain": [
       "10787"
      ]
     },
     "execution_count": 7,
     "metadata": {},
     "output_type": "execute_result"
    }
   ],
   "source": [
    "len(data[0])"
   ]
  },
  {
   "cell_type": "code",
   "execution_count": 8,
   "id": "bbabc80e-85ec-4c8a-a152-3b6e44bcbb52",
   "metadata": {},
   "outputs": [],
   "source": [
    "data_input = data[:1,:-1].to(device).float()\n",
    "data_target = data[:1,1:].to(device).float()"
   ]
  },
  {
   "cell_type": "code",
   "execution_count": 9,
   "id": "1d57aa74-d080-4db8-a8a1-7bf723c33f15",
   "metadata": {},
   "outputs": [],
   "source": [
    "class Model(Module):\n",
    "    def __init__(self):\n",
    "        super().__init__()\n",
    "        self.hidden = 512\n",
    "        self.lstm1 = LSTMCell(1,self.hidden)\n",
    "        self.lstm2 = LSTMCell(self.hidden,self.hidden)\n",
    "        self.linear = Linear(self.hidden,1)\n",
    "    \n",
    "    def forward(self,X,future=0):\n",
    "        preds = []\n",
    "        batch_size = X.shape[0]\n",
    "        h_t1 = torch.zeros(batch_size,self.hidden).to(device)\n",
    "        c_t1 = torch.zeros(batch_size,self.hidden).to(device)\n",
    "        h_t2 = torch.zeros(batch_size,self.hidden).to(device)\n",
    "        c_t2 = torch.zeros(batch_size,self.hidden).to(device)\n",
    "        for X_batch in X.split(1,dim=1):\n",
    "            X_batch = X_batch.to(device)\n",
    "            h_t1,c_t1 = self.lstm1(X_batch,(h_t1,c_t1))\n",
    "            h_t1 = h_t1.to(device)\n",
    "            c_t1 = c_t1.to(device)\n",
    "            h_t2,c_t2 = self.lstm2(h_t1,(h_t2,c_t2))\n",
    "            h_t2 = h_t2.to(device)\n",
    "            c_t2 = c_t2.to(device)\n",
    "            pred = self.linear(h_t2)\n",
    "            preds.append(pred)\n",
    "        for _ in range(future):\n",
    "            h_t1,c_t1 = self.lstm1(X_batch,(h_t1,c_t1))\n",
    "            h_t1 = h_t1.to(device)\n",
    "            c_t1 = c_t1.to(device)\n",
    "            h_t2,c_t2 = self.lstm2(h_t1,(h_t2,c_t2))\n",
    "            h_t2 = h_t2.to(device)\n",
    "            c_t2 = c_t2.to(device)\n",
    "            pred = self.linear(h_t2)\n",
    "            preds.append(pred)\n",
    "        preds = torch.cat(preds,dim=1)\n",
    "        return preds"
   ]
  },
  {
   "cell_type": "code",
   "execution_count": 10,
   "id": "9452226d-537f-4457-90f6-7b1fdd73fecf",
   "metadata": {},
   "outputs": [],
   "source": [
    "model = Model().to(device)"
   ]
  },
  {
   "cell_type": "code",
   "execution_count": 14,
   "id": "46a2649f-7540-456e-a151-424ecf123ec3",
   "metadata": {},
   "outputs": [],
   "source": [
    "optimizer = LBFGS(model.parameters(),lr=0.001)"
   ]
  },
  {
   "cell_type": "code",
   "execution_count": 15,
   "id": "5158d058-0347-4c38-b609-0d31cf75329f",
   "metadata": {},
   "outputs": [],
   "source": [
    "criterion = MSELoss()"
   ]
  },
  {
   "cell_type": "code",
   "execution_count": 16,
   "id": "bcf5bb0c-ebd0-4f39-83a5-4ea87e902755",
   "metadata": {},
   "outputs": [],
   "source": [
    "epochs = 100"
   ]
  },
  {
   "cell_type": "code",
   "execution_count": null,
   "id": "3f39fa84-81b6-48cd-9dee-403947a1fd1e",
   "metadata": {},
   "outputs": [
    {
     "name": "stderr",
     "output_type": "stream",
     "text": [
      "  0%|                                                   | 0/100 [00:00<?, ?it/s]\u001b[34m\u001b[1mwandb\u001b[0m: Currently logged in as: \u001b[33mranuga-d\u001b[0m (use `wandb login --relogin` to force relogin)\n"
     ]
    }
   ],
   "source": [
    "epochs_iter = tqdm(range(epochs))\n",
    "wandb.init(project=PROJECT_NAME,name='baseline')\n",
    "for _ in epochs_iter:\n",
    "    def closure():\n",
    "        epochs_iter.set_description('optimizer.zero_grad()')\n",
    "        optimizer.zero_grad()\n",
    "        epochs_iter.set_description('preds = model(data_input)')\n",
    "        preds = model(data_input)\n",
    "        epochs_iter.set_description('loss = criterion(preds,data_target)')\n",
    "        loss = criterion(preds,data_target)\n",
    "        epochs_iter.set_description('loss.backward()')\n",
    "        loss.backward()\n",
    "        epochs_iter.set_description(\"wandb.log({'Loss':loss.item()})\")\n",
    "        wandb.log({'Loss':loss.item()})\n",
    "        return loss\n",
    "    epochs_iter.set_description('optimizer.step(closure)')\n",
    "    optimizer.step(closure)\n",
    "    epochs_iter.set_description('with torch.no_grad():')\n",
    "    with torch.no_grad():\n",
    "        epochs_iter.set_description('future = 100')\n",
    "        future = 100\n",
    "        epochs_iter.set_description('preds = model(data_input,future)')\n",
    "        preds = model(data_input,future)\n",
    "        epochs_iter.set_description('loss = criterion(preds[:,:-future],data_target)')\n",
    "        loss = criterion(preds[:,:-future],data_target)\n",
    "        epochs_iter.set_description(\"andb.log({'Val Loss':loss.item()})\")\n",
    "        wandb.log({'Val Loss':loss.item()})\n",
    "        epochs_iter.set_description('preds = preds[0].cpu().view(-1).detach().numpy()')\n",
    "        preds = preds[0].cpu().view(-1).detach().numpy()\n",
    "        epochs_iter.set_description('n = dataa_input.shape[1]')\n",
    "        n = data_input.shape[1]\n",
    "        epochs_iter.set_description('plt.figure(figsize=(12,7))')\n",
    "        plt.figure(figsize=(12,7))\n",
    "        plt.plot(np.arange(n),data_target.cpu().view(-1).detach().numpy())\n",
    "        plt.plot(np.arange(n,n+future),preds[n:])\n",
    "        plt.savefig('./img.png')\n",
    "        plt.close()\n",
    "        wandb.log({'Img':wandb.Image(cv2.imread('./img.png'))})\n",
    "wandb.finish()"
   ]
  },
  {
   "cell_type": "code",
   "execution_count": null,
   "id": "8b4f9237-c498-44e7-be2c-7b2ae7167471",
   "metadata": {},
   "outputs": [],
   "source": []
  }
 ],
 "metadata": {
  "kernelspec": {
   "display_name": "Python 3.7.3 64-bit ('base': conda)",
   "language": "python",
   "name": "python373jvsc74a57bd0210f9608a45c0278a93c9e0b10db32a427986ab48cfc0d20c139811eb78c4bbc"
  },
  "language_info": {
   "codemirror_mode": {
    "name": "ipython",
    "version": 3
   },
   "file_extension": ".py",
   "mimetype": "text/x-python",
   "name": "python",
   "nbconvert_exporter": "python",
   "pygments_lexer": "ipython3",
   "version": "3.7.11"
  }
 },
 "nbformat": 4,
 "nbformat_minor": 5
}
